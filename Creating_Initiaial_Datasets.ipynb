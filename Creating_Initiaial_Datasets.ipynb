{
 "cells": [
  {
   "cell_type": "markdown",
   "metadata": {},
   "source": [
    "# Creating Datasets for \"A Doll's House\" by Ibsen\n",
    "\n",
    "## 1. Isolating spoken word from stage directions"
   ]
  },
  {
   "cell_type": "code",
   "execution_count": 18,
   "metadata": {},
   "outputs": [],
   "source": [
    "import sklearn\n",
    "import csv\n",
    "import pandas as pd\n",
    "from collections import Counter\n",
    "import re\n",
    "import string"
   ]
  },
  {
   "cell_type": "markdown",
   "metadata": {},
   "source": [
    "Once regex is added, I will be able to separate out the stage directions. All stage directions are within parentheses. The follow script calls in the file, parses out the exact beginning of the play, and then pulls the character name. The goal is to eventually separate the character name from the connected speech and output them as separate columns in a .csv file."
   ]
  },
  {
   "cell_type": "code",
   "execution_count": 4,
   "metadata": {},
   "outputs": [
    {
     "name": "stdout",
     "output_type": "stream",
     "text": [
      "['(SCENE.--A', 'A', 'Nora.', 'Porter.', 'Nora.', 'Helmer', 'Nora', 'Helmer.', 'Nora.', 'Helmer.', 'Nora.', 'Helmer.', 'Nora.', 'Helmer.', 'Helmer.', 'Nora.', 'Helmer.', 'Helmer.', 'Nora.', 'Helmer.', 'Nora.', 'Helmer.', 'Nora', 'Helmer', 'Nora', 'Helmer.', 'Nora', 'Helmer.', 'Nora.', 'Helmer.', 'Nora', 'Helmer.', 'Nora.', 'Helmer.', 'Nora.', 'Helmer.', 'Nora', 'Helmer.', 'Nora', 'Helmer.', 'Nora.', 'Helmer.', 'Nora.', 'Helmer', 'Nora.', 'Helmer.', 'Nora.', 'Helmer', 'Nora', 'Helmer.', 'Nora.', 'Helmer.', 'Nora.', 'Helmer.', 'Nora', 'Helmer', 'Nora.', 'Helmer.', 'Nora.', 'Helmer.', 'Nora.', 'Helmer.', 'Nora.', 'Helmer.', 'Nora', 'Helmer.', 'Nora.', 'Helmer.', 'Nora.', 'Helmer.', 'Nora.', 'Helmer.', 'Nora.', 'Helmer', 'Nora.', 'Helmer.', 'Nora.', 'Helmer.', 'Nora', 'Helmer.', 'Maid', 'Nora.', 'Maid', 'Helmer.', 'Maid.', '(HELMER', 'Nora', 'Nora.', 'Mrs.', 'Nora.', 'Mrs.', 'Nora.', 'Mrs.', 'Nora.', 'Mrs.', 'Nora.', 'Mrs.', 'Nora', 'Mrs.', 'Nora.', 'Mrs.', 'Nora.', 'Mrs.', 'Nora.', 'Mrs.', 'Nora.', 'Mrs.', 'Nora', 'Mrs.', 'Nora.', 'Mrs.', 'Nora.', 'Mrs.', 'Nora.', 'Mrs.', 'Nora.', 'Mrs.', 'Nora.', 'Mrs.', 'Nora', 'Mrs.', 'Nora.', 'Mrs.', 'Nora.', 'Mrs.', 'Nora.', 'Mrs.', 'Nora.', 'Mrs.', 'Nora.', 'Mrs.', 'Nora.', 'Mrs.', 'Nora.', 'Mrs.', 'Nora.', 'Mrs.', 'Nora.', 'Mrs.', 'Nora.', 'Mrs.', 'Nora.', 'Mrs.', 'Nora.', 'Mrs.', 'Nora.', 'Mrs.', 'Nora', 'Mrs.', 'Nora.', 'Mrs.', 'Nora.', 'Mrs.', 'Nora.', 'Mrs.', 'Nora', 'Mrs.', 'Nora.', 'Mrs.', 'Nora.--that', 'Mrs.', 'Nora.', 'Mrs.', 'Nora.', 'Mrs.', 'Nora.', 'Mrs.', 'Nora.', 'Mrs.', 'Nora.', 'Mrs.', 'Nora.', 'Mrs.', 'Nora.', 'Mrs.', 'Nora', 'Mrs.', 'Nora.', 'Mrs.', 'Nora.', 'Mrs.', 'Nora', 'Mrs.', 'Mrs.', 'Nora.', 'Mrs.', 'Nora', 'Mrs.', 'Nora.', 'Mrs.', 'Nora.', 'Mrs.', 'Nora', 'Mrs.', 'Nora.', 'Mrs.', 'Nora.', 'Mrs.', 'Nora.', 'Mrs.', 'Nora', 'Mrs.', 'Nora.', 'Mrs.', 'Nora.', 'Mrs.', 'Nora.', 'Mrs.', 'Nora.', 'Mrs.', 'Nora.', 'Mrs.', 'Nora.', 'Servant', 'Nora.', 'Krogstad', 'Nora', 'Krogstad.', 'Nora.', 'Krogstad.', 'Nora.', 'Mrs.', 'Nora.', 'Mrs.', 'Nora.', 'Mrs.', 'Nora.', 'Mrs.', 'Nora.', 'Mrs.', 'Nora.', 'Mrs.', 'Nora.', 'Doctor', 'Nora.', 'Rank.', 'Mrs.', 'Rank.', 'Mrs.', 'Rank.', 'Mrs.', 'Rank.', 'Mrs.', 'Rank.', 'Nora.', 'Rank.', 'Mrs.', 'Nora.', 'Rank.', 'Nora.', 'Rank.', 'Nora.', 'Rank.', 'Mrs.', 'Rank', '(NORA,', 'Rank.', 'Nora.', 'Rank.', 'Nora', 'Rank.', 'Nora.', 'Mrs.', 'Nora.', 'Rank.', 'Nora.', 'Rank.', 'Nora.', 'Mrs.', 'Rank.', 'Nora.', 'Rank.', 'Mrs.', 'Rank.', 'Nora', 'Nora.', 'Helmer.', 'Nora.', 'Helmer.', 'Nora.', 'Helmer.', 'Mrs.', 'Nora.', 'Helmer.', 'Nora.', 'Helmer.', 'Nora.', 'Helmer.', 'Mrs.', 'Helmer.', 'Mrs.', 'Helmer.', 'Nora', 'Helmer.', 'Mrs.', 'Helmer.', 'Rank.', 'Nora.', 'Helmer.', 'Nora.', 'Mrs.', 'Helmer.', 'Nora', 'Mrs.', 'Nora.', 'Nora.', 'Rank.', 'Helmer.', '(RANK,', 'Nora.', '(The', 'Nora.', 'Krogstad.', 'Nora', 'Krogstad.', 'Nora', 'Krogstad.', 'Nora.', 'Krogstad.', 'Nora.', 'Krogstad.', 'Nora.', 'Krogstad.', 'Nora.', 'Krogstad.', 'Nora.', 'Krogstad.', 'Nora.', 'Krogstad.', 'Nora.', 'Krogstad.', 'Nora.', 'Krogstad.', 'Nora.', 'Krogstad.', 'Nora.', 'Krogstad.', 'Nora.', 'Krogstad.', 'Nora.', 'Krogstad.', 'Nora', 'Krogstad.', 'Nora.', 'Krogstad', 'Nora.', 'Krogstad.', 'Nora.', 'Krogstad.', 'Nora.', 'Krogstad.', 'Nora.', 'Krogstad.', 'Nora.', 'Krogstad.', 'Nora.', 'Krogstad.', 'Nora.', 'Krogstad', 'Nora.', 'Krogstad.', 'Nora.', 'Krogstad.', 'Nora.', 'Krogstad.', 'Nora.', 'Krogstad.', 'Nora.', 'Krogstad.', 'Nora', 'Krogstad.', 'Nora.', 'Krogstad', 'Nora.', 'Krogstad.', 'Nora.', 'Krogstad.', 'Nora.', 'Krogstad.', 'Nora.', 'Krogstad.', 'Nora.', 'Krogstad.', 'Nora.', 'Krogstad.', 'Nora.', 'Krogstad.', 'Nora.', 'Krogstad.', 'Nora.', 'Krogstad.', 'Nora.', 'Krogstad.', 'Nora.', 'Krogstad.', 'Nora.', 'Krogstad.', 'Nora.', 'Krogstad.', 'Nora.', 'Krogstad.', 'Nora', 'Krogstad.', 'Nora.', 'Krogstad.', 'Nora.', 'Krogstad.', 'Nora.', 'Krogstad.', 'Nora.', 'Krogstad.', 'Nora.', 'Krogstad.', 'Nora.', 'Krogstad.', 'Nora.', 'Krogstad.', 'Nora', 'The', 'Nora.', 'Children.', 'Nora.', 'Children.', 'Nora.', 'Maid', 'Nora.', 'Maid.', 'Nora.', 'Nora', 'Helmer.', 'Nora.', 'Helmer.', 'Nora.', 'Helmer.', 'Nora.', 'Helmer.', 'Nora.', 'Helmer.', 'Nora.', 'Helmer.', 'Nora', 'Helmer.', 'Nora.', 'Helmer.', 'Nora.', 'Helmer.', 'Nora.', 'Helmer.', 'Nora', 'Helmer.', 'Nora.', 'Helmer.', 'Nora.', 'Helmer.', 'Nora.', 'Helmer.', 'Nora', 'Helmer.', 'Nora.', 'Helmer.', 'Nora.', 'Helmer.', 'Nora.', 'Helmer.', 'Nora.', 'Helmer.', 'Nora.', 'Helmer.', 'Nora.', 'Helmer.', 'Nora.', 'Helmer.', 'Nora.', 'Helmer.', 'Nora', 'Helmer.', 'Nora.', 'Helmer.', 'Nora', 'Helmer', 'Nora', '(The', 'Nurse.', 'Nora.', 'Nurse.', 'Nora', 'ACT', '(THE', 'Nora', '(Enter', 'Nurse.', 'Nora.', 'Nurse', 'Nora.', 'Nurse.', 'Nora.', 'Nurse.', 'Nora.', 'Nurse.', 'Nora.', 'Nurse.', 'Nora.', 'Nurse.', 'Nora.', 'Nurse.', 'Nora.', 'Nurse.', 'Nora.', 'Nurse.', 'Nora.', 'Nurse.', 'Nora', 'Nurse.', 'Nurse.', 'Nora', '(Enter', 'Nora.', 'Mrs.', 'Nora.', 'Mrs.', 'Nora.', 'Mrs.', 'Nora.', 'Mrs.', 'Nora', 'Mrs.', 'Nora.', 'Mrs.', 'Nora', 'Mrs.', 'Nora.', 'Mrs.', 'Nora.', 'Mrs.', 'Nora.', 'Mrs.', 'Nora.', 'Mrs.', 'Nora.', 'Mrs.', 'Nora.', 'Mrs.', 'Nora.', 'Mrs.', 'Nora.', 'Mrs.', 'Nora.', 'Mrs.', 'Nora.', 'Mrs.', 'Nora.', 'Mrs.', 'Nora.', 'Mrs.', 'Nora.', 'Mrs.', 'Nora.', 'Mrs.', 'Nora', 'Mrs.', 'Nora.', 'Mrs.', 'Nora.', 'Mrs.', 'Nora.', 'Mrs.', 'Nora', 'Mrs.', 'Nora', 'Helmer.', 'Nora.', 'Helmer.', 'Nora.', 'Helmer.', 'Nora.', 'Helmer.', 'Nora.', 'Helmer.', 'Nora.', 'Helmer.', 'Nora.', 'Helmer.', 'Nora.', 'Helmer.', 'Nora.', 'Helmer.', 'Nora.', 'Helmer.', 'Nora', 'Helmer.', 'Nora.', 'Helmer.', 'Nora.', 'Helmer.', 'Nora.', 'Helmer.', 'Nora.', 'Helmer.', 'Nora.', 'Helmer.', 'Nora.', 'Helmer.', 'Nora.', 'Helmer.', 'Nora.', 'Helmer.', 'Nora.', 'Helmer.', 'Nora.', 'Helmer.', 'Nora.', 'Helmer.', 'Nora.', 'Helmer.', 'Nora.', 'Helmer', 'Maid.', 'Helmer', 'Nora', 'Helmer.', 'Nora.', 'Helmer.', 'Nora.', 'Helmer.', 'Nora', 'Helmer.', 'Nora', 'Helmer.', 'Nora', 'Nora.', 'Rank.', 'Nora', 'Rank.', 'Nora.', 'Rank.', 'Nora.', 'Rank.', 'Nora', 'Rank', 'Nora', 'Rank.', 'Nora.', 'Rank.', 'Nora.', 'Rank.', 'Nora.', 'Rank.', 'Nora', 'Rank.', 'Nora', 'Rank.', 'Nora.', 'Rank.', 'Nora.', 'Rank.', 'Nora.', 'Rank', 'Nora', 'Rank.', 'Nora.', 'Rank', 'Nora.', 'Rank.', 'Nora', 'Rank.', 'Nora', 'Rank.', 'Nora.', 'Rank.', 'Nora.', 'Rank.', 'Nora.', 'Rank.', 'Nora.', 'Rank', 'Nora.', 'Rank.', 'Nora.', 'Rank.', 'Rank.', 'Nora', 'Rank.', 'Nora.', 'Rank', 'Nora', 'Rank', 'Nora.', 'Rank', 'Nora.', 'Rank.', 'Nora.', 'Rank.', 'Nora.', 'Rank.', 'Nora.', 'Rank.', 'Nora.', 'Rank.', 'Nora.', 'Rank', 'Nora', 'Rank.', 'Nora', 'Rank.', 'Nora', 'Rank', 'Nora', 'Rank.', 'Nora.', 'Rank.', 'Nora.', 'Rank.', 'Nora', 'Rank.', 'Nora.', 'Rank.', 'Nora.', 'Rank.', 'Nora.', 'Rank.', 'Nora.', 'Rank.', 'Nora.', 'Rank.', 'Nora.', 'Rank.', 'Nora', 'Maid.', 'Nora', 'Rank.', 'Nora.', 'Rank.', 'Nora.', 'Rank.', 'Nora.', 'Rank.', '(Goes', 'Nora', 'Maid.', 'Nora.', 'Maid.', 'Nora.', 'Maid.', 'Nora.', 'Maid.', 'Nora.', 'Nora', 'Krogstad.', 'Nora.', 'Krogstad.', 'Nora.', 'Krogstad.', 'Nora.', 'Krogstad.', 'Nora.', 'Krogstad.', 'Nora.', 'Krogstad.', 'Nora.', 'Krogstad.', 'Nora.', 'Krogstad.', 'Nora.', 'Krogstad.', 'Nora.', 'Krogstad.', 'Nora.', 'Krogstad.', 'Nora.', 'Krogstad.', 'Nora.', 'Krogstad.', 'Nora.', 'Krogstad.', 'Nora.', 'Krogstad.', 'Nora.', 'Krogstad.', 'Nora.', 'Krogstad.', 'Nora.', 'Krogstad.', 'Nora', 'Krogstad', 'Nora.', 'Krogstad.', 'Nora.', 'Krogstad.', 'Nora', 'Krogstad.', 'Nora.', 'Krogstad.', 'Nora.', 'Krogstad.', 'Nora.', 'Krogstad.', 'Nora.', 'Krogstad.', 'Nora.', 'Krogstad.', 'Nora.', 'Krogstad.', 'Nora.', 'Krogstad.', 'Nora.', 'Krogstad.', 'Nora', 'Nora.', '(Mrs.', 'Mrs.', 'Nora', 'Mrs.', 'Nora.', 'Mrs.', 'Nora.', 'Mrs.', 'Nora.', 'Mrs.', 'Nora.', 'Mrs.', 'Nora.', 'Mrs.', 'Nora.', 'Mrs.', 'Nora.', 'Mrs.', 'Nora.', 'Mrs.', 'Nora.', 'Mrs.', 'Nora.', 'Mrs.', 'Nora.', 'Mrs.', 'Nora.', 'Mrs.', 'Nora.', 'Mrs.', 'Nora.', 'Helmer', 'Helmer.', 'Nora.', 'Mrs.', 'Nora.', 'Mrs.', 'Nora.', 'Mrs.', 'Nora.', 'Mrs.', 'Nora', 'Helmer', 'Nora.', 'Helmer.', 'Rank', 'Nora.', 'Helmer.', 'Nora.', 'Helmer.', 'Nora.', 'Helmer.', 'Nora.', 'Helmer.', 'Nora.', 'Helmer.', 'Nora.', 'Helmer.', 'Nora.', 'Helmer.', 'Nora.', 'Helmer', 'Nora.', 'Helmer.', 'Nora', '(HELMER', 'Helmer', 'Nora.', 'Helmer.', 'Nora.', 'Helmer', 'Nora', 'Rank.', 'Helmer', '(RANK', 'Mrs.', 'Nora', 'Helmer.', 'Nora.', 'Helmer.', 'Nora', 'Helmer.', 'Nora.', 'Helmer.', 'Nora.', 'Helmer.', 'Nora.', 'Helmer.', 'Nora.', 'Rank', 'Helmer', 'Nora.', 'Maid.', 'Nora.', 'Maid.', 'Helmer.', 'Nora.', 'Helmer.', 'Nora.', 'Rank', 'Helmer.', 'Nora.', 'Mrs.', 'Nora.', 'Mrs.', 'Nora.', 'Mrs.', 'Nora.', 'Helmer', 'Nora', 'ACT', '(THE', 'Mrs.', 'Krogstad', 'Mrs.', 'Krogstad.', 'Mrs.', 'Krogstad', 'Mrs.', 'Krogstad.', 'Mrs.', 'Krogstad.', 'Mrs.', 'Krogstad.', 'Mrs.', 'Krogstad.', 'Mrs.', 'Krogstad.', 'Mrs.', 'Krogstad.', 'Mrs.', 'Krogstad', 'Mrs.', 'Krogstad.', 'Mrs.', 'Krogstad', 'Mrs.', 'Krogstad.', 'Mrs.', 'Krogstad.', 'Mrs.', 'Krogstad.', 'Mrs.', 'Krogstad.', 'Mrs.', 'Krogstad.', 'Mrs.', 'Krogstad.', 'Mrs.', 'Krogstad.', 'Mrs.', 'Krogstad.', 'Mrs.', 'Krogstad.', 'Mrs.', 'Krogstad.', 'Mrs.', 'Krogstad.', 'Mrs.', 'Krogstad.', 'Mrs.', 'Krogstad.', 'Mrs.', 'Krogstad.', 'Mrs.', 'Krogstad.', 'Mrs.', 'Krogstad.', 'Mrs.', 'Krogstad', 'Mrs.', 'Krogstad.', 'Mrs.', 'Krogstad.', 'Mrs.', 'Krogstad.', 'Mrs.', 'Krogstad.', 'Mrs.', 'Krogstad.', 'Mrs.', 'Krogstad', 'Mrs.', 'Krogstad.', 'Mrs.', 'Krogstad.', 'Mrs.', 'Krogstad.', 'Mrs.', 'Krogstad.', 'Mrs.', 'Krogstad.', 'Mrs.', 'Krogstad.', 'Mrs.', 'Nora', 'Helmer.', 'Nora.', 'Helmer.', 'Mrs.', 'Nora.', 'Helmer.', 'Mrs.', 'Nora.', 'Mrs.', 'Helmer', 'Mrs.', 'Helmer.', 'Nora.', 'Helmer.', 'Nora', 'Mrs.', 'Nora.', 'Mrs.', 'Nora', 'Mrs.', 'Nora.', 'Mrs.', 'Nora.', 'Helmer', 'Mrs.', 'Helmer.', 'Mrs.', 'Helmer.', 'Mrs.', 'Helmer.', 'Mrs.', 'Helmer.', 'Mrs.', 'Helmer.', 'Mrs.', 'Helmer.', 'Mrs.', 'Helmer', 'Nora.', 'Helmer.', 'Nora.', 'Helmer.', 'Nora.', 'Helmer.', 'Nora.', 'Helmer', 'Nora.', 'Helmer.', 'Nora.', 'Helmer.', 'Nora', 'Helmer', 'Nora.', 'Helmer.', 'Nora.', 'Helmer.', 'Nora.', 'Helmer.', 'Nora', 'Helmer', 'Rank', 'Helmer', 'Rank.', 'Helmer.', 'Rank.', 'Helmer.', 'Rank.', 'Nora.', 'Rank.', 'Nora.', 'Rank.', 'Helmer.', 'Rank', 'Nora.', 'Rank.', 'Helmer.', 'Nora.', 'Rank.', 'Nora.', 'Rank.', 'Nora', 'Rank.', 'Nora.', 'Rank.', 'Nora.', 'Rank.', 'Nora.', 'Helmer.', 'Rank.', 'Helmer.', 'Rank.', 'Helmer.', 'Rank.', 'Helmer.', 'Rank.', 'Helmer.', 'Rank.', 'Helmer', 'Rank.', 'Helmer.', 'Rank', 'Nora', 'Rank.', 'Helmer.', 'Nora.', 'Rank.', 'Nora.', 'Rank.', 'Helmer', 'Nora', 'Helmer.', 'Nora.', 'Helmer.', 'Nora.', 'Helmer.', 'Nora', 'Helmer.', 'Nora', 'Helmer.', 'Nora.', 'Helmer', 'Nora.', 'Helmer.', 'Nora.', 'Helmer.', 'Nora.', 'Helmer.', 'Nora.', 'Helmer', 'Nora', 'Helmer.', 'Nora.', 'Helmer.', 'Nora', 'Helmer', 'Nora', 'Helmer.', 'Nora.', 'Helmer.', 'Nora.', 'Helmer', 'Nora', 'Helmer', 'Nora.', 'Helmer.', 'Nora', 'Helmer.', 'Nora.', 'Helmer.', 'Nora', 'Helmer', 'Nora.', 'Helmer.', 'Nora.', 'Helmer.', 'Nora', 'Helmer.', '(A', 'Helmer', '(NORA', 'Maid', 'Helmer.', 'Nora.', 'Helmer', 'Nora.', 'Helmer.', 'Nora.', 'Helmer.', 'Nora.', 'Helmer.', 'Nora.', 'Helmer.', 'Nora', 'Helmer', 'Nora', 'Helmer.', 'Nora.', 'Helmer.', 'Nora', 'Helmer.', 'Nora.', 'Helmer', 'Nora.', 'Helmer.', 'Nora', 'Helmer.', 'Nora.', 'Helmer.', 'Nora.', 'Helmer.', 'Nora.', 'Helmer.', 'Nora.', 'Helmer.', 'Nora', 'Helmer.', 'Nora.', 'Helmer.', 'Nora', 'Helmer.', 'Nora.', 'Helmer.', 'Nora.', 'Helmer.', 'Nora.', 'Helmer.', 'Nora.', 'Helmer.', 'Nora.', 'Helmer.', 'Nora.', 'Helmer.', 'Nora.', 'Helmer', 'Nora.', 'Helmer.', 'Nora.', 'Helmer.', 'Nora.', 'Helmer.', 'Nora.', 'Helmer.', 'Nora.', 'Helmer.', 'Nora.', 'Helmer.', 'Nora.', 'Helmer.', 'Nora.', 'Helmer.', 'Nora.', 'Helmer.', 'Nora.', 'Helmer.', 'Nora.', 'Helmer.', 'Nora.', 'Helmer.', 'Nora.', 'Helmer.', 'Nora.', 'Helmer.', 'Nora.', 'Helmer.', 'Nora.', 'Helmer.', 'Nora.', 'Helmer.', 'Nora.', 'Helmer.', 'Nora.', 'Helmer', 'Nora.', 'Helmer.', 'Nora.', 'Helmer.', 'Nora.', 'Helmer.', 'Nora.', 'Helmer.', 'Nora.', 'Helmer.', 'Nora.', 'Helmer.', 'Nora.', 'Helmer', 'Nora.', 'Helmer.', 'Nora.', 'Helmer.', 'Nora', 'Helmer.', 'Nora', 'Helmer.', 'Nora', 'Helmer.', 'Nora.', 'Helmer.', 'Nora.', 'Helmer.', 'Nora.', 'Helmer.', 'Nora.', 'Helmer.', 'Nora.', 'Helmer.', 'Nora.', 'Helmer.', 'Nora.', 'Helmer.', 'Nora.', 'Helmer.', 'Nora', 'Helmer.', 'Nora.', 'Helmer.', 'Nora.', 'Helmer', '(The']\n"
     ]
    }
   ],
   "source": [
    "filein = open('dollshouse.txt', 'r')\n",
    "full_text = filein.read()\n",
    "filein.close()\n",
    "\n",
    "# This is where the regex should go, because the stage directions can go across paragraphs. This needs to happen before we split the text\n",
    "\n",
    "lines = full_text.split(\"\\n\\n\") # each speech is split from one another\n",
    "#print(lines)\n",
    "\n",
    "#print(lines.index(\"\\nACT I\"))\n",
    "\n",
    "script_text = lines[8:] # begins at first line of script\n",
    "# print(script_text)\n",
    "\n",
    "name = []\n",
    "\n",
    "for speech in script_text:\n",
    "    if len(speech) > 1:\n",
    "        character_line = speech.split() # splits each speech into words\n",
    "        character_name = character_line[0] # grabs first word, which will always be name of character speaking\n",
    "        name.append(character_name) # not fool-proof. does not pull multiple (i.e. Mrs. Linde). Will also pull any connecting punctuation\n",
    "    \n",
    "print(name)"
   ]
  },
  {
   "cell_type": "code",
   "execution_count": null,
   "metadata": {},
   "outputs": [],
   "source": []
  }
 ],
 "metadata": {
  "kernelspec": {
   "display_name": "Python 3",
   "language": "python",
   "name": "python3"
  },
  "language_info": {
   "codemirror_mode": {
    "name": "ipython",
    "version": 3
   },
   "file_extension": ".py",
   "mimetype": "text/x-python",
   "name": "python",
   "nbconvert_exporter": "python",
   "pygments_lexer": "ipython3",
   "version": "3.7.1"
  }
 },
 "nbformat": 4,
 "nbformat_minor": 2
}
