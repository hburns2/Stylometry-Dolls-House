{
 "cells": [
  {
   "cell_type": "markdown",
   "metadata": {},
   "source": [
    "# Creating Datasets for \"A Doll's House\" by Ibsen\n",
    "\n",
    "## 1. Isolating spoken word from stage directions"
   ]
  },
  {
   "cell_type": "code",
   "execution_count": 10,
   "metadata": {},
   "outputs": [],
   "source": [
    "import sklearn\n",
    "import csv\n",
    "import pandas as pd\n",
    "from collections import Counter\n",
    "import re\n",
    "import string\n",
    "import nltk"
   ]
  },
  {
   "cell_type": "markdown",
   "metadata": {},
   "source": [
    "Editing the English code to work with the Bokmål version of the play script. \n",
    "**NOTE:** I have not yet finished cleaning the Bokmål version of the play script. Everything in this doc is a skeleton and will be altered as the actual text I plan on using is finalized."
   ]
  },
  {
   "cell_type": "code",
   "execution_count": 11,
   "metadata": {},
   "outputs": [],
   "source": [
    "filein = open('Et_dukkehjem_cleaned.txt', encoding = 'utf-8').read()\n",
    "#print(filein)"
   ]
  },
  {
   "cell_type": "code",
   "execution_count": 13,
   "metadata": {},
   "outputs": [],
   "source": [
    "spoken = re.sub(r'\\((.|\\n)+?\\)', '', filein)\n",
    "linda_pattern = re.compile(r'^Fru Linde\\.', re.MULTILINE)\n",
    "spoken = re.sub(linda_pattern, 'FruLinde.', spoken)\n",
    "#print(spoken)\n",
    "# need to do something with Sagfører Krogstad name\n",
    "split_text = spoken.split(\"\\n\\n\")\n",
    "#print(split_text)\n",
    "\n",
    "#print(split_text.index(\"\\u200b \\u200b\\n \\u200b\\nFØRSTE AKT.\"))\n",
    "\n",
    "spoken_text = split_text[7:] # begins at first line of script\n",
    "#print(spoken_text)"
   ]
  },
  {
   "cell_type": "markdown",
   "metadata": {},
   "source": [
    "Cleaning and lowercasing the play script"
   ]
  },
  {
   "cell_type": "code",
   "execution_count": 14,
   "metadata": {},
   "outputs": [],
   "source": [
    "doll_cleaned = []\n",
    "for line in spoken_text:\n",
    "    cleanedline = line\n",
    "    for p in string.punctuation:\n",
    "        cleanedline = cleanedline.replace(p,\" \").lower()\n",
    "    doll_cleaned.append(cleanedline.lower()+\"\\n\")\n",
    "#print(doll_cleaned)\n",
    "\n",
    "# from nltk.tokenize import word_tokenize\n",
    "# tokens = word_tokenize(text)\n",
    "# # remove all tokens that are not alphabetic\n",
    "# words = [word for word in tokens if word.isalpha()]\n",
    "\n",
    "# there's some weird punctuation happening in this script (i.e. Torvald--?)"
   ]
  },
  {
   "cell_type": "markdown",
   "metadata": {},
   "source": [
    "## 2. Getting the names and associated lines for each character"
   ]
  },
  {
   "cell_type": "markdown",
   "metadata": {},
   "source": [
    "Getting the names of each character that speaks"
   ]
  },
  {
   "cell_type": "code",
   "execution_count": 15,
   "metadata": {},
   "outputs": [
    {
     "name": "stdout",
     "output_type": "stream",
     "text": [
      "1251\n"
     ]
    }
   ],
   "source": [
    "name = []\n",
    "\n",
    "for speech in doll_cleaned:\n",
    "    character_line = speech.split()\n",
    "    #print(speech)\n",
    "    if len(character_line) > 1:\n",
    "        # splits each speech into words\n",
    "        #print(\"hello from the if statement\")\n",
    "        character_name = character_line[0] + \" \" # grabs first word, which will always be name of character speaking\n",
    "        name.append(character_name)\n",
    "        #name += character_name\n",
    "        \n",
    "#print(name)\n",
    "print(len(name))"
   ]
  },
  {
   "cell_type": "markdown",
   "metadata": {},
   "source": [
    "Getting the speech content of each character that speaks, minus their name"
   ]
  },
  {
   "cell_type": "code",
   "execution_count": 16,
   "metadata": {},
   "outputs": [
    {
     "name": "stdout",
     "output_type": "stream",
     "text": [
      "1251\n"
     ]
    }
   ],
   "source": [
    "character_speech_list = []\n",
    "for speech in doll_cleaned:\n",
    "    if len(speech) > 1:\n",
    "        character_speech_list.append(speech)\n",
    "#         character_line = speech.split()\n",
    "#         #character_speech = character_line[1:]\n",
    "        #character_speech_list+=speech\n",
    "\n",
    "\n",
    "#print(character_speech_list)\n",
    "print(len(character_speech_list))\n",
    "#for line in character_speech_list:\n",
    "    #print(line)"
   ]
  },
  {
   "cell_type": "markdown",
   "metadata": {},
   "source": [
    "Writing out to a .csv file"
   ]
  },
  {
   "cell_type": "code",
   "execution_count": 17,
   "metadata": {},
   "outputs": [
    {
     "ename": "SyntaxError",
     "evalue": "unexpected EOF while parsing (<ipython-input-17-9e029bbfa4e8>, line 6)",
     "output_type": "error",
     "traceback": [
      "\u001b[1;36m  File \u001b[1;32m\"<ipython-input-17-9e029bbfa4e8>\"\u001b[1;36m, line \u001b[1;32m6\u001b[0m\n\u001b[1;33m    csvout.writerows(zip(name, character_speech_list) # the write-out I am getting here is weird. I think it has to do with utf-8\u001b[0m\n\u001b[1;37m                                                                                                                                 ^\u001b[0m\n\u001b[1;31mSyntaxError\u001b[0m\u001b[1;31m:\u001b[0m unexpected EOF while parsing\n"
     ]
    }
   ],
   "source": [
    "headers = ['character_name', 'character_speech']\n",
    "\n",
    "with open('characters_and_speeches-Bokmål.csv', 'w', newline='') as outfile:\n",
    "    csvout = csv.writer(outfile)\n",
    "    csvout.writerow(headers)\n",
    "    csvout.writerows(zip(name, character_speech_list) # enexpected EOF while parsing? when i can get the write-out to work, it's formatting weird"
   ]
  },
  {
   "cell_type": "code",
   "execution_count": null,
   "metadata": {},
   "outputs": [],
   "source": []
  }
 ],
 "metadata": {
  "kernelspec": {
   "display_name": "Python 3",
   "language": "python",
   "name": "python3"
  },
  "language_info": {
   "codemirror_mode": {
    "name": "ipython",
    "version": 3
   },
   "file_extension": ".py",
   "mimetype": "text/x-python",
   "name": "python",
   "nbconvert_exporter": "python",
   "pygments_lexer": "ipython3",
   "version": "3.7.1"
  }
 },
 "nbformat": 4,
 "nbformat_minor": 2
}
