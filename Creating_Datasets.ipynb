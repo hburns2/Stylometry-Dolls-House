{
 "cells": [
  {
   "cell_type": "markdown",
   "metadata": {},
   "source": [
    "# Creating Datasets for \"A Doll's House\" by Ibsen\n",
    "\n",
    "## 1. Isolating spoken word from stage directions"
   ]
  },
  {
   "cell_type": "code",
   "execution_count": 1,
   "metadata": {},
   "outputs": [],
   "source": [
    "import sklearn\n",
    "import csv\n",
    "import pandas as pd\n",
    "from collections import Counter\n",
    "import re\n",
    "import string"
   ]
  },
  {
   "cell_type": "markdown",
   "metadata": {},
   "source": [
    "Once regex is added, I will be able to separate out the stage directions. All stage directions are within parentheses. The follow script calls in the file, parses out the exact beginning of the play, and then pulls the character name. The goal is to eventually separate the character name from the connected speech and output them as separate columns in a .csv file."
   ]
  },
  {
   "cell_type": "code",
   "execution_count": 2,
   "metadata": {},
   "outputs": [],
   "source": [
    "filein = open('dollshouse.txt', 'r')\n",
    "full_text = filein.read()\n",
    "filein.close()\n",
    "\n",
    "# This is where the regex should go, because the stage directions can go across paragraphs. This needs to happen before we split the text\n",
    "\n",
    "lines = full_text.split(\"\\n\\n\") # each speech is split from one another\n",
    "#print(lines)\n",
    "\n",
    "#print(lines.index(\"\\nACT I\"))\n",
    "\n",
    "script_text = lines[8:] # begins at first line of script\n",
    "# print(script_text)\n",
    "\n",
    "# will want to clean out punctuation in here"
   ]
  },
  {
   "cell_type": "markdown",
   "metadata": {},
   "source": [
    "## 2. Getting the names and associated lines for each character"
   ]
  },
  {
   "cell_type": "markdown",
   "metadata": {},
   "source": [
    "Getting the names of each character that speaks"
   ]
  },
  {
   "cell_type": "code",
   "execution_count": 3,
   "metadata": {},
   "outputs": [],
   "source": [
    "name = []\n",
    "\n",
    "for speech in script_text:\n",
    "    if len(speech) > 1:\n",
    "        character_line = speech.split() # splits each speech into words\n",
    "        character_name = character_line[0] # grabs first word, which will always be name of character speaking\n",
    "        name.append(character_name) # not fool-proof. does not pull multiple (i.e. Mrs. Linde). Will also pull any connecting punctuation\n",
    "        # what would make this better is, once the regex is in, I can grab everything up until the first period that occurs, that way a full name will be separated (still doesn't account for Mrs. Linde. Maybe I need to make a list for it to pull from?)\n",
    "        # I should .lower everything and remove punctuation\n",
    "        \n",
    "#print(name)\n",
    "#print(len(name))"
   ]
  },
  {
   "cell_type": "markdown",
   "metadata": {},
   "source": [
    "Getting the speech content of each character that speaks, minus their name"
   ]
  },
  {
   "cell_type": "code",
   "execution_count": 4,
   "metadata": {},
   "outputs": [],
   "source": [
    "character_speech_list = []\n",
    "for speech in script_text:\n",
    "    if len(speech) > 1:\n",
    "        character_line = speech.split()\n",
    "        character_speech = character_line[1:]\n",
    "        character_speech_list.append(character_speech)\n",
    "\n",
    "#print(character_speech_list)\n",
    "#print(len(character_speech_list))"
   ]
  },
  {
   "cell_type": "markdown",
   "metadata": {},
   "source": [
    "Writing out to a .csv file"
   ]
  },
  {
   "cell_type": "code",
   "execution_count": 5,
   "metadata": {},
   "outputs": [],
   "source": [
    "headers = ['character_name', 'character_speech']\n",
    "\n",
    "with open('characters_and_speeches.csv', 'w', newline='') as outfile:\n",
    "    csvout = csv.writer(outfile)\n",
    "    csvout.writerow(headers)\n",
    "    csvout.writerows(zip(name, character_speech_list))"
   ]
  }
 ],
 "metadata": {
  "kernelspec": {
   "display_name": "Python 3",
   "language": "python",
   "name": "python3"
  },
  "language_info": {
   "codemirror_mode": {
    "name": "ipython",
    "version": 3
   },
   "file_extension": ".py",
   "mimetype": "text/x-python",
   "name": "python",
   "nbconvert_exporter": "python",
   "pygments_lexer": "ipython3",
   "version": "3.7.1"
  }
 },
 "nbformat": 4,
 "nbformat_minor": 2
}
