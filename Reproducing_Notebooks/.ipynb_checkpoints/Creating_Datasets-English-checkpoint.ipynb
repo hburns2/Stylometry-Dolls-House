{
 "cells": [
  {
   "cell_type": "markdown",
   "metadata": {},
   "source": [
    "# Creating Datasets for \"A Doll's House\" by Ibsen\n",
    "\n",
    "## 1. Isolating spoken word from stage directions"
   ]
  },
  {
   "cell_type": "code",
   "execution_count": 46,
   "metadata": {},
   "outputs": [],
   "source": [
    "import csv\n",
    "import pandas as pd\n",
    "import string"
   ]
  },
  {
   "cell_type": "markdown",
   "metadata": {},
   "source": [
    "Opening the file. Using regex to remove the stage directions from the play script. All stage directions exist within parentheses, both within and outside spoken text. Then, regex is added to match a pattern for a single character, \"Mrs. Linde,\" and combine her name into a single word. This helps with the parsing of the document."
   ]
  },
  {
   "cell_type": "code",
   "execution_count": 47,
   "metadata": {},
   "outputs": [],
   "source": [
    "filein = open('dollshouse.txt', 'r')\n",
    "full_text = filein.read()\n",
    "filein.close()"
   ]
  },
  {
   "cell_type": "code",
   "execution_count": 48,
   "metadata": {},
   "outputs": [
    {
     "name": "stdout",
     "output_type": "stream",
     "text": [
      "MrsLinde.. How do you do, Nora?\n"
     ]
    }
   ],
   "source": [
    "spoken = re.sub(r'\\((.|\\n)+?\\)', '', full_text)\n",
    "linda_pattern = re.compile(r'^Mrs\\. Linde*.', re.MULTILINE)\n",
    "spoken = re.sub(linda_pattern, 'MrsLinde.', spoken)\n",
    "#print(spoken)\n",
    "split_text = spoken.split(\"\\n\\n\")\n",
    "#print(split_text)\n",
    "\n",
    "#print(split_text.index(\"\\nACT I\"))  <--- finding the first line of the script\n",
    "\n",
    "spoken_text = split_text[9:] # begins at first line of script\n",
    "#print(spoken_text)\n",
    "#print(spoken_text[83])"
   ]
  },
  {
   "cell_type": "markdown",
   "metadata": {},
   "source": [
    "Cleaning and lowercasing the play script"
   ]
  },
  {
   "cell_type": "code",
   "execution_count": 49,
   "metadata": {},
   "outputs": [],
   "source": [
    "doll_cleaned = []\n",
    "for line in spoken_text:\n",
    "    cleanedline = line\n",
    "    for p in string.punctuation:\n",
    "        cleanedline = cleanedline.replace(p,\" \").lower()\n",
    "    doll_cleaned.append(cleanedline.lower()+\"\\n\")\n",
    "#print(doll_cleaned)\n",
    "\n",
    "# from nltk.tokenize import word_tokenize\n",
    "# tokens = word_tokenize(text)\n",
    "# # remove all tokens that are not alphabetic\n",
    "# words = [word for word in tokens if word.isalpha()]"
   ]
  },
  {
   "cell_type": "markdown",
   "metadata": {},
   "source": [
    "## 2. Getting the names and associated lines for each character"
   ]
  },
  {
   "cell_type": "markdown",
   "metadata": {},
   "source": [
    "Getting the names of each character that speaks"
   ]
  },
  {
   "cell_type": "code",
   "execution_count": 50,
   "metadata": {},
   "outputs": [
    {
     "name": "stdout",
     "output_type": "stream",
     "text": [
      "['nora ', 'porter ', 'nora ', 'helmer ', 'nora ', 'helmer ', 'nora ', 'helmer ', 'nora ', 'helmer ', 'nora ', 'helmer ', 'helmer ', 'nora ', 'helmer ', 'helmer ', 'nora ', 'helmer ', 'nora ', 'helmer ', 'nora ', 'helmer ', 'nora ', 'helmer ', 'nora ', 'helmer ', 'nora ', 'helmer ', 'nora ', 'helmer ', 'nora ', 'helmer ', 'nora ', 'helmer ', 'nora ', 'helmer ', 'nora ', 'helmer ', 'nora ', 'helmer ', 'nora ', 'helmer ', 'nora ', 'helmer ', 'nora ', 'helmer ', 'nora ', 'helmer ', 'nora ', 'helmer ', 'nora ', 'helmer ', 'nora ', 'helmer ', 'nora ', 'helmer ', 'nora ', 'helmer ', 'nora ', 'helmer ', 'nora ', 'helmer ', 'nora ', 'helmer ', 'nora ', 'helmer ', 'nora ', 'helmer ', 'nora ', 'helmer ', 'nora ', 'helmer ', 'nora ', 'helmer ', 'nora ', 'helmer ', 'nora ', 'helmer ', 'maid ', 'nora ', 'maid ', 'helmer ', 'maid ', 'mrslinde ', 'nora ', 'nora ', 'mrslinde ', 'nora ', 'mrslinde ', 'nora ', 'mrslinde ', 'nora ', 'mrslinde ', 'nora ', 'mrslinde ', 'nora ', 'mrslinde ', 'nora ', 'mrslinde ', 'nora ', 'mrslinde ', 'nora ', 'mrslinde ', 'nora ', 'mrslinde ', 'nora ', 'mrslinde ', 'nora ', 'mrslinde ', 'nora ', 'mrslinde ', 'nora ', 'mrslinde ', 'nora ', 'mrslinde ', 'nora ', 'mrslinde ', 'nora ', 'mrslinde ', 'nora ', 'mrslinde ', 'nora ', 'mrslinde ', 'nora ', 'mrslinde ', 'nora ', 'mrslinde ', 'nora ', 'mrslinde ', 'nora ', 'mrslinde ', 'nora ', 'mrslinde ', 'nora ', 'mrslinde ', 'nora ', 'mrslinde ', 'nora ', 'mrslinde ', 'nora ', 'mrslinde ', 'nora ', 'mrslinde ', 'nora ', 'mrslinde ', 'nora ', 'mrslinde ', 'nora ', 'mrslinde ', 'nora ', 'mrslinde ', 'nora ', 'mrslinde ', 'nora ', 'mrslinde ', 'nora ', 'mrslinde ', 'nora ', 'mrslinde ', 'nora ', 'mrslinde ', 'nora ', 'mrslinde ', 'nora ', 'mrslinde ', 'nora ', 'mrslinde ', 'nora ', 'mrslinde ', 'nora ', 'mrslinde ', 'nora ', 'mrslinde ', 'nora ', 'mrslinde ', 'nora ', 'mrslinde ', 'nora ', 'mrslinde ', 'nora ', 'mrslinde ', 'mrslinde ', 'nora ', 'mrslinde ', 'nora ', 'mrslinde ', 'nora ', 'mrslinde ', 'nora ', 'mrslinde ', 'nora ', 'mrslinde ', 'nora ', 'mrslinde ', 'nora ', 'mrslinde ', 'nora ', 'mrslinde ', 'nora ', 'mrslinde ', 'nora ', 'mrslinde ', 'nora ', 'mrslinde ', 'nora ', 'mrslinde ', 'nora ', 'mrslinde ', 'nora ', 'mrslinde ', 'nora ', 'servant ', 'nora ', 'krogstad ', 'nora ', 'krogstad ', 'nora ', 'krogstad ', 'nora ', 'mrslinde ', 'nora ', 'mrslinde ', 'nora ', 'mrslinde ', 'nora ', 'mrslinde ', 'nora ', 'mrslinde ', 'nora ', 'mrslinde ', 'nora ', 'doctor ', 'nora ', 'rank ', 'mrslinde ', 'rank ', 'mrslinde ', 'rank ', 'mrslinde ', 'rank ', 'mrslinde ', 'rank ', 'nora ', 'rank ', 'mrslinde ', 'nora ', 'rank ', 'nora ', 'rank ', 'nora ', 'rank ', 'mrslinde ', 'rank ', 'rank ', 'nora ', 'rank ', 'nora ', 'rank ', 'nora ', 'mrslinde ', 'nora ', 'rank ', 'nora ', 'rank ', 'nora ', 'mrslinde ', 'rank ', 'nora ', 'rank ', 'mrslinde ', 'rank ', 'nora ', 'nora ', 'helmer ', 'nora ', 'helmer ', 'nora ', 'helmer ', 'mrslinde ', 'nora ', 'helmer ', 'nora ', 'helmer ', 'nora ', 'helmer ', 'mrslinde ', 'helmer ', 'mrslinde ', 'helmer ', 'nora ', 'helmer ', 'mrslinde ', 'helmer ', 'rank ', 'nora ', 'helmer ', 'nora ', 'mrslinde ', 'helmer ', 'nora ', 'mrslinde ', 'nora ', 'nora ', 'rank ', 'helmer ', 'nora ', 'nora ', 'krogstad ', 'nora ', 'krogstad ', 'nora ', 'krogstad ', 'nora ', 'krogstad ', 'nora ', 'krogstad ', 'nora ', 'krogstad ', 'nora ', 'krogstad ', 'nora ', 'krogstad ', 'nora ', 'krogstad ', 'nora ', 'krogstad ', 'nora ', 'krogstad ', 'nora ', 'krogstad ', 'nora ', 'krogstad ', 'nora ', 'krogstad ', 'nora ', 'krogstad ', 'nora ', 'krogstad ', 'nora ', 'krogstad ', 'nora ', 'krogstad ', 'nora ', 'krogstad ', 'nora ', 'krogstad ', 'nora ', 'krogstad ', 'nora ', 'krogstad ', 'nora ', 'krogstad ', 'nora ', 'krogstad ', 'nora ', 'krogstad ', 'nora ', 'krogstad ', 'nora ', 'krogstad ', 'nora ', 'krogstad ', 'nora ', 'krogstad ', 'nora ', 'krogstad ', 'nora ', 'krogstad ', 'nora ', 'krogstad ', 'nora ', 'krogstad ', 'nora ', 'krogstad ', 'nora ', 'krogstad ', 'nora ', 'krogstad ', 'nora ', 'krogstad ', 'nora ', 'krogstad ', 'nora ', 'krogstad ', 'nora ', 'krogstad ', 'nora ', 'krogstad ', 'nora ', 'krogstad ', 'nora ', 'krogstad ', 'nora ', 'krogstad ', 'nora ', 'krogstad ', 'nora ', 'krogstad ', 'nora ', 'krogstad ', 'nora ', 'krogstad ', 'nora ', 'krogstad ', 'nora ', 'krogstad ', 'nora ', 'krogstad ', 'nora ', 'krogstad ', 'nora ', 'krogstad ', 'nora ', 'the ', 'nora ', 'children ', 'nora ', 'children ', 'nora ', 'helen ', 'maid ', 'nora ', 'maid ', 'nora ', 'nora ', 'helmer ', 'nora ', 'helmer ', 'nora ', 'helmer ', 'nora ', 'helmer ', 'nora ', 'helmer ', 'nora ', 'helmer ', 'nora ', 'helmer ', 'nora ', 'helmer ', 'nora ', 'helmer ', 'nora ', 'helmer ', 'nora ', 'helmer ', 'nora ', 'helmer ', 'nora ', 'helmer ', 'nora ', 'helmer ', 'nora ', 'helmer ', 'nora ', 'helmer ', 'nora ', 'helmer ', 'nora ', 'helmer ', 'nora ', 'helmer ', 'nora ', 'helmer ', 'nora ', 'helmer ', 'nora ', 'helmer ', 'nora ', 'helmer ', 'nora ', 'helmer ', 'nora ', 'helmer ', 'nora ', 'helmer ', 'nora ', 'nurse ', 'nora ', 'nurse ', 'nora ', 'act ', 'nora ', 'nurse ', 'nora ', 'nurse ', 'nora ', 'nurse ', 'nora ', 'nurse ', 'nora ', 'nurse ', 'nora ', 'nurse ', 'nora ', 'nurse ', 'nora ', 'nurse ', 'nora ', 'nurse ', 'nora ', 'nurse ', 'nora ', 'nurse ', 'nora ', 'nurse ', 'nurse ', 'nora ', 'nora ', 'mrslinde ', 'nora ', 'mrslinde ', 'nora ', 'mrslinde ', 'nora ', 'mrslinde ', 'nora ', 'mrslinde ', 'nora ', 'mrslinde ', 'nora ', 'mrslinde ', 'nora ', 'mrslinde ', 'nora ', 'mrslinde ', 'nora ', 'mrslinde ', 'nora ', 'mrslinde ', 'nora ', 'mrslinde ', 'nora ', 'mrslinde ', 'nora ', 'mrslinde ', 'nora ', 'mrslinde ', 'nora ', 'mrslinde ', 'nora ', 'mrslinde ', 'nora ', 'mrslinde ', 'nora ', 'mrslinde ', 'nora ', 'mrslinde ', 'nora ', 'mrslinde ', 'nora ', 'mrslinde ', 'nora ', 'mrslinde ', 'nora ', 'mrslinde ', 'nora ', 'mrslinde ', 'nora ', 'mrslinde ', 'nora ', 'helmer ', 'nora ', 'helmer ', 'nora ', 'helmer ', 'nora ', 'helmer ', 'nora ', 'helmer ', 'nora ', 'helmer ', 'nora ', 'helmer ', 'nora ', 'helmer ', 'nora ', 'helmer ', 'nora ', 'helmer ', 'nora ', 'helmer ', 'nora ', 'helmer ', 'nora ', 'helmer ', 'nora ', 'helmer ', 'nora ', 'helmer ', 'nora ', 'helmer ', 'nora ', 'helmer ', 'nora ', 'helmer ', 'nora ', 'helmer ', 'nora ', 'helmer ', 'nora ', 'helmer ', 'nora ', 'helmer ', 'nora ', 'helmer ', 'nora ', 'helmer ', 'maid ', 'helmer ', 'nora ', 'helmer ', 'nora ', 'helmer ', 'nora ', 'helmer ', 'nora ', 'helmer ', 'nora ', 'helmer ', 'nora ', 'nora ', 'rank ', 'nora ', 'rank ', 'nora ', 'rank ', 'nora ', 'rank ', 'nora ', 'rank ', 'nora ', 'rank ', 'nora ', 'rank ', 'nora ', 'rank ', 'nora ', 'rank ', 'nora ', 'rank ', 'nora ', 'rank ', 'nora ', 'rank ', 'nora ', 'rank ', 'nora ', 'rank ', 'nora ', 'rank ', 'nora ', 'rank ', 'nora ', 'rank ', 'nora ', 'rank ', 'nora ', 'rank ', 'nora ', 'rank ', 'nora ', 'rank ', 'nora ', 'rank ', 'nora ', 'rank ', 'nora ', 'rank ', 'nora ', 'rank ', 'rank ', 'nora ', 'rank ', 'nora ', 'rank ', 'nora ', 'rank ', 'nora ', 'rank ', 'nora ', 'rank ', 'nora ', 'rank ', 'nora ', 'rank ', 'nora ', 'rank ', 'nora ', 'rank ', 'nora ', 'rank ', 'nora ', 'rank ', 'nora ', 'rank ', 'nora ', 'rank ', 'nora ', 'rank ', 'nora ', 'rank ', 'nora ', 'rank ', 'nora ', 'rank ', 'nora ', 'rank ', 'nora ', 'rank ', 'nora ', 'rank ', 'nora ', 'rank ', 'nora ', 'rank ', 'nora ', 'rank ', 'nora ', 'maid ', 'nora ', 'rank ', 'nora ', 'rank ', 'nora ', 'rank ', 'nora ', 'rank ', 'nora ', 'maid ', 'nora ', 'maid ', 'nora ', 'maid ', 'nora ', 'maid ', 'nora ', 'nora ', 'krogstad ', 'nora ', 'krogstad ', 'nora ', 'krogstad ', 'nora ', 'krogstad ', 'nora ', 'krogstad ', 'nora ', 'krogstad ', 'nora ', 'krogstad ', 'nora ', 'krogstad ', 'nora ', 'krogstad ', 'nora ', 'krogstad ', 'nora ', 'krogstad ', 'nora ', 'krogstad ', 'nora ', 'krogstad ', 'nora ', 'krogstad ', 'nora ', 'krogstad ', 'nora ', 'krogstad ', 'nora ', 'krogstad ', 'nora ', 'krogstad ', 'nora ', 'krogstad ', 'nora ', 'krogstad ', 'nora ', 'krogstad ', 'nora ', 'krogstad ', 'nora ', 'krogstad ', 'nora ', 'krogstad ', 'nora ', 'krogstad ', 'nora ', 'krogstad ', 'nora ', 'krogstad ', 'nora ', 'krogstad ', 'nora ', 'krogstad ', 'nora ', 'krogstad ', 'nora ', 'nora ', 'mrslinde ', 'nora ', 'mrslinde ', 'nora ', 'mrslinde ', 'nora ', 'mrslinde ', 'nora ', 'mrslinde ', 'nora ', 'mrslinde ', 'nora ', 'mrslinde ', 'nora ', 'mrslinde ', 'nora ', 'mrslinde ', 'nora ', 'mrslinde ', 'nora ', 'mrslinde ', 'nora ', 'mrslinde ', 'nora ', 'mrslinde ', 'nora ', 'mrslinde ', 'nora ', 'mrslinde ', 'nora ', 'helmer ', 'helmer ', 'nora ', 'mrslinde ', 'nora ', 'mrslinde ', 'nora ', 'mrslinde ', 'nora ', 'mrslinde ', 'nora ', 'helmer ', 'nora ', 'helmer ', 'rank ', 'nora ', 'helmer ', 'nora ', 'helmer ', 'nora ', 'helmer ', 'nora ', 'helmer ', 'nora ', 'helmer ', 'nora ', 'helmer ', 'nora ', 'helmer ', 'nora ', 'helmer ', 'nora ', 'helmer ', 'nora ', 'helmer ', 'nora ', 'helmer ', 'nora ', 'helmer ', 'nora ', 'rank ', 'helmer ', 'mrslinde ', 'nora ', 'helmer ', 'nora ', 'helmer ', 'nora ', 'helmer ', 'nora ', 'helmer ', 'nora ', 'helmer ', 'nora ', 'helmer ', 'nora ', 'rank ', 'helmer ', 'nora ', 'maid ', 'nora ', 'maid ', 'helmer ', 'nora ', 'helmer ', 'nora ', 'rank ', 'helmer ', 'nora ', 'mrslinde ', 'nora ', 'mrslinde ', 'nora ', 'mrslinde ', 'nora ', 'helmer ', 'nora ', 'act ', 'mrslinde ', 'krogstad ', 'mrslinde ', 'krogstad ', 'mrslinde ', 'krogstad ', 'mrslinde ', 'krogstad ', 'mrslinde ', 'krogstad ', 'mrslinde ', 'krogstad ', 'mrslinde ', 'krogstad ', 'mrslinde ', 'krogstad ', 'mrslinde ', 'krogstad ', 'mrslinde ', 'krogstad ', 'mrslinde ', 'krogstad ', 'mrslinde ', 'krogstad ', 'mrslinde ', 'krogstad ', 'mrslinde ', 'krogstad ', 'mrslinde ', 'krogstad ', 'mrslinde ', 'krogstad ', 'mrslinde ', 'krogstad ', 'mrslinde ', 'krogstad ', 'mrslinde ', 'krogstad ', 'mrslinde ', 'krogstad ', 'mrslinde ', 'krogstad ', 'mrslinde ', 'krogstad ', 'mrslinde ', 'krogstad ', 'mrslinde ', 'krogstad ', 'mrslinde ', 'krogstad ', 'mrslinde ', 'krogstad ', 'mrslinde ', 'krogstad ', 'mrslinde ', 'krogstad ', 'mrslinde ', 'krogstad ', 'mrslinde ', 'krogstad ', 'mrslinde ', 'krogstad ', 'mrslinde ', 'krogstad ', 'mrslinde ', 'krogstad ', 'mrslinde ', 'krogstad ', 'mrslinde ', 'krogstad ', 'mrslinde ', 'krogstad ', 'mrslinde ', 'krogstad ', 'mrslinde ', 'krogstad ', 'mrslinde ', 'krogstad ', 'mrslinde ', 'krogstad ', 'mrslinde ', 'krogstad ', 'mrslinde ', 'nora ', 'helmer ', 'nora ', 'helmer ', 'mrslinde ', 'nora ', 'helmer ', 'mrslinde ', 'nora ', 'mrslinde ', 'helmer ', 'mrslinde ', 'helmer ', 'nora ', 'helmer ', 'nora ', 'mrslinde ', 'nora ', 'mrslinde ', 'nora ', 'mrslinde ', 'nora ', 'mrslinde ', 'nora ', 'helmer ', 'mrslinde ', 'helmer ', 'mrslinde ', 'helmer ', 'mrslinde ', 'helmer ', 'mrslinde ', 'helmer ', 'mrslinde ', 'helmer ', 'mrslinde ', 'helmer ', 'mrslinde ', 'helmer ', 'nora ', 'helmer ', 'nora ', 'helmer ', 'nora ', 'helmer ', 'nora ', 'helmer ', 'nora ', 'helmer ', 'nora ', 'helmer ', 'nora ', 'helmer ', 'nora ', 'helmer ', 'nora ', 'helmer ', 'nora ', 'helmer ', 'nora ', 'helmer ', 'rank ', 'helmer ', 'rank ', 'helmer ', 'rank ', 'helmer ', 'rank ', 'nora ', 'rank ', 'nora ', 'rank ', 'helmer ', 'rank ', 'nora ', 'rank ', 'helmer ', 'nora ', 'rank ', 'nora ', 'rank ', 'nora ', 'rank ', 'nora ', 'rank ', 'nora ', 'rank ', 'nora ', 'helmer ', 'rank ', 'helmer ', 'rank ', 'helmer ', 'rank ', 'helmer ', 'rank ', 'helmer ', 'rank ', 'helmer ', 'rank ', 'helmer ', 'rank ', 'nora ', 'rank ', 'helmer ', 'nora ', 'rank ', 'nora ', 'rank ', 'helmer ', 'nora ', 'helmer ', 'nora ', 'helmer ', 'nora ', 'helmer ', 'nora ', 'helmer ', 'nora ', 'helmer ', 'nora ', 'helmer ', 'nora ', 'helmer ', 'nora ', 'helmer ', 'nora ', 'helmer ', 'nora ', 'helmer ', 'nora ', 'helmer ', 'nora ', 'helmer ', 'nora ', 'helmer ', 'nora ', 'helmer ', 'nora ', 'helmer ', 'nora ', 'helmer ', 'nora ', 'helmer ', 'nora ', 'helmer ', 'nora ', 'helmer ', 'nora ', 'helmer ', 'nora ', 'helmer ', 'nora ', 'helmer ', 'nora ', 'helmer ', 'nora ', 'helmer ', 'helmer ', 'maid ', 'helmer ', 'nora ', 'helmer ', 'nora ', 'helmer ', 'nora ', 'helmer ', 'nora ', 'helmer ', 'nora ', 'helmer ', 'nora ', 'helmer ', 'nora ', 'helmer ', 'nora ', 'helmer ', 'nora ', 'helmer ', 'nora ', 'helmer ', 'nora ', 'helmer ', 'nora ', 'helmer ', 'nora ', 'helmer ', 'nora ', 'helmer ', 'nora ', 'helmer ', 'nora ', 'helmer ', 'nora ', 'helmer ', 'nora ', 'helmer ', 'nora ', 'helmer ', 'nora ', 'helmer ', 'nora ', 'helmer ', 'nora ', 'helmer ', 'nora ', 'helmer ', 'nora ', 'helmer ', 'nora ', 'helmer ', 'nora ', 'helmer ', 'nora ', 'helmer ', 'nora ', 'helmer ', 'nora ', 'helmer ', 'nora ', 'helmer ', 'nora ', 'helmer ', 'nora ', 'helmer ', 'nora ', 'helmer ', 'nora ', 'helmer ', 'nora ', 'helmer ', 'nora ', 'helmer ', 'nora ', 'helmer ', 'nora ', 'helmer ', 'nora ', 'helmer ', 'nora ', 'helmer ', 'nora ', 'helmer ', 'nora ', 'helmer ', 'nora ', 'helmer ', 'nora ', 'helmer ', 'nora ', 'helmer ', 'nora ', 'helmer ', 'nora ', 'helmer ', 'nora ', 'helmer ', 'nora ', 'helmer ', 'nora ', 'helmer ', 'nora ', 'helmer ', 'nora ', 'helmer ', 'nora ', 'helmer ', 'nora ', 'helmer ', 'nora ', 'helmer ', 'nora ', 'helmer ', 'nora ', 'helmer ', 'nora ', 'helmer ', 'nora ', 'helmer ', 'nora ', 'helmer ', 'nora ', 'helmer ', 'nora ', 'helmer ', 'nora ', 'helmer ', 'nora ', 'helmer ', 'nora ', 'helmer ', 'nora ', 'helmer ', 'nora ', 'helmer ', 'nora ', 'helmer ']\n"
     ]
    }
   ],
   "source": [
    "name = []\n",
    "\n",
    "for speech in doll_cleaned:\n",
    "    character_line = speech.split()\n",
    "    #print(speech)\n",
    "    if len(character_line) > 1:\n",
    "        # splits each speech into words\n",
    "        #print(\"hello from the if statement\")\n",
    "        character_name = character_line[0] + \" \" # grabs first word, which will always be name of character speaking\n",
    "        name.append(character_name)\n",
    "        #name += character_name\n",
    "        \n",
    "print(name)\n",
    "#print(len(updated_name))"
   ]
  },
  {
   "cell_type": "markdown",
   "metadata": {},
   "source": [
    "Getting the speech content of each character that speaks. Their name will be included within this section. Names will be filtered out when getting the counts for each word, so the inclusion of the name here is inconsequential."
   ]
  },
  {
   "cell_type": "code",
   "execution_count": 51,
   "metadata": {},
   "outputs": [],
   "source": [
    "character_speech_list = []\n",
    "for speech in doll_cleaned:\n",
    "    split_speech = speech.strip().split()\n",
    "    if len(split_speech) > 1:\n",
    "        indexed_speech = split_speech[1:]\n",
    "        character_speech_list.append(indexed_speech)\n",
    "#         character_line = speech.split()\n",
    "#         #character_speech = character_line[1:]\n",
    "        #character_speech_list+=speech\n",
    "\n",
    "\n",
    "#print(character_speech_list)\n",
    "# print(len(character_speech_list))"
   ]
  },
  {
   "cell_type": "markdown",
   "metadata": {},
   "source": [
    "Writing out to a .csv file. The output file will contain 2 columns (character name and the associated line). The output file will have 1288 rows containing textual data. While the character name column contains repeated values (the cast of characters, which will eventually become the class when applying logistic regression), the associated line column should contain entirely unique values."
   ]
  },
  {
   "cell_type": "code",
   "execution_count": 54,
   "metadata": {},
   "outputs": [],
   "source": [
    "headers = ['character_name', 'character_speech']\n",
    "\n",
    "with open('characters_and_speeches-English.csv', 'w', newline='') as outfile:\n",
    "    csvout = csv.writer(outfile)\n",
    "    csvout.writerow(headers)\n",
    "    csvout.writerows(zip(name, character_speech_list))\n"
   ]
  },
  {
   "cell_type": "code",
   "execution_count": 55,
   "metadata": {},
   "outputs": [
    {
     "data": {
      "text/html": [
       "<div>\n",
       "<style scoped>\n",
       "    .dataframe tbody tr th:only-of-type {\n",
       "        vertical-align: middle;\n",
       "    }\n",
       "\n",
       "    .dataframe tbody tr th {\n",
       "        vertical-align: top;\n",
       "    }\n",
       "\n",
       "    .dataframe thead th {\n",
       "        text-align: right;\n",
       "    }\n",
       "</style>\n",
       "<table border=\"1\" class=\"dataframe\">\n",
       "  <thead>\n",
       "    <tr style=\"text-align: right;\">\n",
       "      <th></th>\n",
       "      <th>character_name</th>\n",
       "      <th>character_speech</th>\n",
       "    </tr>\n",
       "  </thead>\n",
       "  <tbody>\n",
       "    <tr>\n",
       "      <th>0</th>\n",
       "      <td>nora</td>\n",
       "      <td>['hide', 'the', 'christmas', 'tree', 'carefull...</td>\n",
       "    </tr>\n",
       "    <tr>\n",
       "      <th>1</th>\n",
       "      <td>porter</td>\n",
       "      <td>['sixpence']</td>\n",
       "    </tr>\n",
       "    <tr>\n",
       "      <th>2</th>\n",
       "      <td>nora</td>\n",
       "      <td>['there', 'is', 'a', 'shilling', 'no', 'keep',...</td>\n",
       "    </tr>\n",
       "    <tr>\n",
       "      <th>3</th>\n",
       "      <td>helmer</td>\n",
       "      <td>['is', 'that', 'my', 'little', 'lark', 'twitte...</td>\n",
       "    </tr>\n",
       "    <tr>\n",
       "      <th>4</th>\n",
       "      <td>nora</td>\n",
       "      <td>['yes', 'it', 'is']</td>\n",
       "    </tr>\n",
       "  </tbody>\n",
       "</table>\n",
       "</div>"
      ],
      "text/plain": [
       "  character_name                                   character_speech\n",
       "0          nora   ['hide', 'the', 'christmas', 'tree', 'carefull...\n",
       "1        porter                                        ['sixpence']\n",
       "2          nora   ['there', 'is', 'a', 'shilling', 'no', 'keep',...\n",
       "3        helmer   ['is', 'that', 'my', 'little', 'lark', 'twitte...\n",
       "4          nora                                 ['yes', 'it', 'is']"
      ]
     },
     "execution_count": 55,
     "metadata": {},
     "output_type": "execute_result"
    }
   ],
   "source": [
    "english_dataset = pd.read_csv(\"characters_and_speeches-English.csv\")\n",
    "english_dataset.head()"
   ]
  },
  {
   "cell_type": "code",
   "execution_count": null,
   "metadata": {},
   "outputs": [],
   "source": []
  },
  {
   "cell_type": "code",
   "execution_count": null,
   "metadata": {},
   "outputs": [],
   "source": []
  }
 ],
 "metadata": {
  "kernelspec": {
   "display_name": "Python 3",
   "language": "python",
   "name": "python3"
  },
  "language_info": {
   "codemirror_mode": {
    "name": "ipython",
    "version": 3
   },
   "file_extension": ".py",
   "mimetype": "text/x-python",
   "name": "python",
   "nbconvert_exporter": "python",
   "pygments_lexer": "ipython3",
   "version": "3.7.1"
  }
 },
 "nbformat": 4,
 "nbformat_minor": 2
}
